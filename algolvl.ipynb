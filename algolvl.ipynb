{
 "cells": [
  {
   "cell_type": "code",
   "execution_count": 11,
   "metadata": {},
   "outputs": [
    {
     "name": "stdout",
     "output_type": "stream",
     "text": [
      "Requirement already satisfied: pyPI in /Library/Frameworks/Python.framework/Versions/3.11/lib/python3.11/site-packages (2.1)\n",
      "Requirement already satisfied: pyscf in /Library/Frameworks/Python.framework/Versions/3.11/lib/python3.11/site-packages (2.3.0)\n",
      "Requirement already satisfied: numpy!=1.16,!=1.17,>=1.13 in /Library/Frameworks/Python.framework/Versions/3.11/lib/python3.11/site-packages (from pyscf) (1.23.5)\n",
      "Requirement already satisfied: scipy!=1.5.0,!=1.5.1 in /Library/Frameworks/Python.framework/Versions/3.11/lib/python3.11/site-packages (from pyscf) (1.10.1)\n",
      "Requirement already satisfied: h5py>=2.7 in /Library/Frameworks/Python.framework/Versions/3.11/lib/python3.11/site-packages (from pyscf) (3.9.0)\n"
     ]
    }
   ],
   "source": [
    "!pip3 install pyPI\n",
    "!pip3 install pyscf\n"
   ]
  },
  {
   "cell_type": "code",
   "execution_count": 12,
   "metadata": {},
   "outputs": [],
   "source": [
    "from mqt.bench import get_benchmark\n",
    "from qiskit import QuantumCircuit, Aer\n",
    "from qiskit.compiler import transpile\n",
    "from qiskit.visualization import plot_gate_map\n",
    "import matplotlib.pyplot as plt\n",
    "import os"
   ]
  },
  {
   "cell_type": "code",
   "execution_count": 13,
   "metadata": {},
   "outputs": [],
   "source": [
    "def file_reader(file_path):\n",
    "    circuits = []\n",
    "    directory = file_path\n",
    "    for circuit in os.listdir(directory):\n",
    "        circuit_path = file_path + \"/\" + circuit\n",
    "        print(circuit_path)\n",
    "        qc = QuantumCircuit.from_qasm_file(circuit_path)\n",
    "        circuits.append(qc)\n",
    "    return circuits"
   ]
  },
  {
   "cell_type": "code",
   "execution_count": 15,
   "metadata": {},
   "outputs": [
    {
     "ename": "FileNotFoundError",
     "evalue": "[Errno 2] No such file or directory: 'test_circ'",
     "output_type": "error",
     "traceback": [
      "\u001b[0;31m---------------------------------------------------------------------------\u001b[0m",
      "\u001b[0;31mFileNotFoundError\u001b[0m                         Traceback (most recent call last)",
      "Cell \u001b[0;32mIn[15], line 1\u001b[0m\n\u001b[0;32m----> 1\u001b[0m circuits \u001b[39m=\u001b[39m file_reader(\u001b[39m\"\u001b[39;49m\u001b[39mtest_circ\u001b[39;49m\u001b[39m\"\u001b[39;49m)\n\u001b[1;32m      3\u001b[0m \u001b[39m# Select your backend (e.g., Aer's qasm_simulator)\u001b[39;00m\n\u001b[1;32m      4\u001b[0m backend \u001b[39m=\u001b[39m Aer\u001b[39m.\u001b[39mget_backend(\u001b[39m'\u001b[39m\u001b[39mqasm_simulator\u001b[39m\u001b[39m'\u001b[39m)\n",
      "Cell \u001b[0;32mIn[13], line 4\u001b[0m, in \u001b[0;36mfile_reader\u001b[0;34m(file_path)\u001b[0m\n\u001b[1;32m      2\u001b[0m circuits \u001b[39m=\u001b[39m []\n\u001b[1;32m      3\u001b[0m directory \u001b[39m=\u001b[39m file_path\n\u001b[0;32m----> 4\u001b[0m \u001b[39mfor\u001b[39;00m circuit \u001b[39min\u001b[39;00m os\u001b[39m.\u001b[39;49mlistdir(directory):\n\u001b[1;32m      5\u001b[0m     circuit_path \u001b[39m=\u001b[39m file_path \u001b[39m+\u001b[39m \u001b[39m\"\u001b[39m\u001b[39m/\u001b[39m\u001b[39m\"\u001b[39m \u001b[39m+\u001b[39m circuit\n\u001b[1;32m      6\u001b[0m     \u001b[39mprint\u001b[39m(circuit_path)\n",
      "\u001b[0;31mFileNotFoundError\u001b[0m: [Errno 2] No such file or directory: 'test_circ'"
     ]
    }
   ],
   "source": [
    "circuits = file_reader(\"test_circ\")\n",
    "\n",
    "# Select your backend (e.g., Aer's qasm_simulator)\n",
    "backend = Aer.get_backend('qasm_simulator')"
   ]
  },
  {
   "cell_type": "code",
   "execution_count": null,
   "metadata": {},
   "outputs": [
    {
     "name": "stdout",
     "output_type": "stream",
     "text": [
      "circuit depth:  17\n",
      "transpiled_circuit depth:  8\n",
      "circuit depth:  48\n",
      "transpiled_circuit depth:  26\n",
      "circuit depth:  55\n",
      "transpiled_circuit depth:  37\n",
      "circuit depth:  230\n",
      "transpiled_circuit depth:  171\n",
      "circuit depth:  230\n",
      "transpiled_circuit depth:  163\n",
      "circuit depth:  92\n",
      "transpiled_circuit depth:  60\n",
      "circuit depth:  236\n",
      "transpiled_circuit depth:  170\n",
      "circuit depth:  128\n",
      "transpiled_circuit depth:  84\n",
      "circuit depth:  179\n",
      "transpiled_circuit depth:  117\n",
      "circuit depth:  298\n",
      "transpiled_circuit depth:  203\n"
     ]
    }
   ],
   "source": [
    "# Transpile each circuit, count the entangled gates, and store the results\n",
    "entangled_gate_counts = []\n",
    "for circuit in circuits:\n",
    "    print(\"circuit depth: \", circuit.depth())\n",
    "    transpiled_circuit = transpile(circuit, backend, optimization_level=2)\n",
    "    print(\"transpiled_circuit depth: \", transpiled_circuit.depth())\n",
    "    entangled_gate_count = sum([1 for gate in transpiled_circuit if gate[0].num_qubits > 1])\n",
    "    entangled_gate_counts.append(entangled_gate_count)\n",
    "    transpiled_circuit.depth()\n",
    "    \n",
    "# Generate a graph to visualize the entangled gate counts\n",
    "# plt.plot(range(1, len(circuits) + 1), entangled_gate_counts, marker='o')\n",
    "# plt.xlabel('Circuit')\n",
    "# plt.ylabel('Entangled Gate Count')\n",
    "# plt.title('Multiqubit Count of Transpiled Circuits')\n",
    "# plt.xticks(range(1, len(circuits) + 1))\n",
    "# plt.show()"
   ]
  },
  {
   "cell_type": "code",
   "execution_count": null,
   "metadata": {},
   "outputs": [
    {
     "data": {
      "text/html": [
       "<pre style=\"word-wrap: normal;white-space: pre;background: #fff0;line-height: 1.1;font-family: &quot;Courier New&quot;,Courier,monospace\">     ┌───┐     ┌─────────┐┌───┐ ░ ┌─┐         \n",
       "q_0: ┤ H ├─────┤0        ├┤ H ├─░─┤M├─────────\n",
       "     ├───┤     │         │├───┤ ░ └╥┘┌─┐      \n",
       "q_1: ┤ H ├─────┤1        ├┤ H ├─░──╫─┤M├──────\n",
       "     ├───┤     │         │├───┤ ░  ║ └╥┘┌─┐   \n",
       "q_2: ┤ H ├─────┤2 Oracle ├┤ H ├─░──╫──╫─┤M├───\n",
       "     ├───┤     │         │├───┤ ░  ║  ║ └╥┘┌─┐\n",
       "q_3: ┤ H ├─────┤3        ├┤ H ├─░──╫──╫──╫─┤M├\n",
       "     ├───┤┌───┐│         │└───┘ ░  ║  ║  ║ └╥┘\n",
       "q_4: ┤ X ├┤ H ├┤4        ├──────░──╫──╫──╫──╫─\n",
       "     └───┘└───┘└─────────┘      ░  ║  ║  ║  ║ \n",
       "c: 4/══════════════════════════════╩══╩══╩══╩═\n",
       "                                   0  1  2  3 </pre>"
      ],
      "text/plain": [
       "     ┌───┐     ┌─────────┐┌───┐ ░ ┌─┐         \n",
       "q_0: ┤ H ├─────┤0        ├┤ H ├─░─┤M├─────────\n",
       "     ├───┤     │         │├───┤ ░ └╥┘┌─┐      \n",
       "q_1: ┤ H ├─────┤1        ├┤ H ├─░──╫─┤M├──────\n",
       "     ├───┤     │         │├───┤ ░  ║ └╥┘┌─┐   \n",
       "q_2: ┤ H ├─────┤2 Oracle ├┤ H ├─░──╫──╫─┤M├───\n",
       "     ├───┤     │         │├───┤ ░  ║  ║ └╥┘┌─┐\n",
       "q_3: ┤ H ├─────┤3        ├┤ H ├─░──╫──╫──╫─┤M├\n",
       "     ├───┤┌───┐│         │└───┘ ░  ║  ║  ║ └╥┘\n",
       "q_4: ┤ X ├┤ H ├┤4        ├──────░──╫──╫──╫──╫─\n",
       "     └───┘└───┘└─────────┘      ░  ║  ║  ║  ║ \n",
       "c: 4/══════════════════════════════╩══╩══╩══╩═\n",
       "                                   0  1  2  3 "
      ]
     },
     "execution_count": 6,
     "metadata": {},
     "output_type": "execute_result"
    }
   ],
   "source": [
    "from mqt.bench import get_benchmark\n",
    "\n",
    "qc = get_benchmark(\"dj\", \"alg\", 5)\n",
    "qc.draw()"
   ]
  },
  {
   "cell_type": "code",
   "execution_count": null,
   "metadata": {},
   "outputs": [
    {
     "data": {
      "text/html": [
       "<pre style=\"word-wrap: normal;white-space: pre;background: #fff0;line-height: 1.1;font-family: &quot;Courier New&quot;,Courier,monospace\">      ┌─────────┐      ┌───────────┐                                ░ ┌─┐      »\n",
       "q_0: ─┤ U2(0,0) ├───■──┤ U2(-π,-π) ├────────────────────────────────░─┤M├──────»\n",
       "      ├─────────┤   │  └───────────┘┌───────────┐                   ░ └╥┘┌─┐   »\n",
       "q_1: ─┤ U2(0,0) ├───┼────────■──────┤ U2(-π,-π) ├───────────────────░──╫─┤M├───»\n",
       "      └──┬───┬──┘   │        │      └───────────┘┌───┐              ░  ║ └╥┘┌─┐»\n",
       "q_2: ────┤ H ├──────┼────────┼────────────■──────┤ H ├──────────────░──╫──╫─┤M├»\n",
       "      ┌──┴───┴──┐   │        │            │      └───┘┌───────────┐ ░  ║  ║ └╥┘»\n",
       "q_3: ─┤ U2(0,0) ├───┼────────┼────────────┼────────■──┤ U2(-π,-π) ├─░──╫──╫──╫─»\n",
       "     ┌┴─────────┴┐┌─┴─┐    ┌─┴─┐        ┌─┴─┐    ┌─┴─┐└───────────┘ ░  ║  ║  ║ »\n",
       "q_4: ┤ U2(-π,-π) ├┤ X ├────┤ X ├────────┤ X ├────┤ X ├──────────────░──╫──╫──╫─»\n",
       "     └───────────┘└───┘    └───┘        └───┘    └───┘              ░  ║  ║  ║ »\n",
       "c: 4/══════════════════════════════════════════════════════════════════╩══╩══╩═»\n",
       "                                                                       0  1  2 »\n",
       "«        \n",
       "«q_0: ───\n",
       "«        \n",
       "«q_1: ───\n",
       "«        \n",
       "«q_2: ───\n",
       "«     ┌─┐\n",
       "«q_3: ┤M├\n",
       "«     └╥┘\n",
       "«q_4: ─╫─\n",
       "«      ║ \n",
       "«c: 4/═╩═\n",
       "«      3 </pre>"
      ],
      "text/plain": [
       "      ┌─────────┐      ┌───────────┐                                ░ ┌─┐      »\n",
       "q_0: ─┤ U2(0,0) ├───■──┤ U2(-π,-π) ├────────────────────────────────░─┤M├──────»\n",
       "      ├─────────┤   │  └───────────┘┌───────────┐                   ░ └╥┘┌─┐   »\n",
       "q_1: ─┤ U2(0,0) ├───┼────────■──────┤ U2(-π,-π) ├───────────────────░──╫─┤M├───»\n",
       "      └──┬───┬──┘   │        │      └───────────┘┌───┐              ░  ║ └╥┘┌─┐»\n",
       "q_2: ────┤ H ├──────┼────────┼────────────■──────┤ H ├──────────────░──╫──╫─┤M├»\n",
       "      ┌──┴───┴──┐   │        │            │      └───┘┌───────────┐ ░  ║  ║ └╥┘»\n",
       "q_3: ─┤ U2(0,0) ├───┼────────┼────────────┼────────■──┤ U2(-π,-π) ├─░──╫──╫──╫─»\n",
       "     ┌┴─────────┴┐┌─┴─┐    ┌─┴─┐        ┌─┴─┐    ┌─┴─┐└───────────┘ ░  ║  ║  ║ »\n",
       "q_4: ┤ U2(-π,-π) ├┤ X ├────┤ X ├────────┤ X ├────┤ X ├──────────────░──╫──╫──╫─»\n",
       "     └───────────┘└───┘    └───┘        └───┘    └───┘              ░  ║  ║  ║ »\n",
       "c: 4/══════════════════════════════════════════════════════════════════╩══╩══╩═»\n",
       "                                                                       0  1  2 »\n",
       "«        \n",
       "«q_0: ───\n",
       "«        \n",
       "«q_1: ───\n",
       "«        \n",
       "«q_2: ───\n",
       "«     ┌─┐\n",
       "«q_3: ┤M├\n",
       "«     └╥┘\n",
       "«q_4: ─╫─\n",
       "«      ║ \n",
       "«c: 4/═╩═\n",
       "«      3 "
      ]
     },
     "execution_count": 7,
     "metadata": {},
     "output_type": "execute_result"
    }
   ],
   "source": [
    "transpiled_circuit = transpile(qc, backend, optimization_level= 1)\n",
    "transpiled_circuit.draw()\n"
   ]
  },
  {
   "cell_type": "code",
   "execution_count": null,
   "metadata": {},
   "outputs": [
    {
     "data": {
      "text/html": [
       "<pre style=\"word-wrap: normal;white-space: pre;background: #fff0;line-height: 1.1;font-family: &quot;Courier New&quot;,Courier,monospace\">      ┌─────────┐      ┌───────────┐                                ░ ┌─┐      »\n",
       "q_0: ─┤ U2(0,0) ├───■──┤ U2(-π,-π) ├────────────────────────────────░─┤M├──────»\n",
       "      ├─────────┤   │  └───────────┘┌───────────┐                   ░ └╥┘┌─┐   »\n",
       "q_1: ─┤ U2(0,0) ├───┼────────■──────┤ U2(-π,-π) ├───────────────────░──╫─┤M├───»\n",
       "      └──┬───┬──┘   │        │      └───────────┘┌───┐              ░  ║ └╥┘┌─┐»\n",
       "q_2: ────┤ H ├──────┼────────┼────────────■──────┤ H ├──────────────░──╫──╫─┤M├»\n",
       "      ┌──┴───┴──┐   │        │            │      └───┘┌───────────┐ ░  ║  ║ └╥┘»\n",
       "q_3: ─┤ U2(0,0) ├───┼────────┼────────────┼────────■──┤ U2(-π,-π) ├─░──╫──╫──╫─»\n",
       "     ┌┴─────────┴┐┌─┴─┐    ┌─┴─┐        ┌─┴─┐    ┌─┴─┐└───────────┘ ░  ║  ║  ║ »\n",
       "q_4: ┤ U2(-π,-π) ├┤ X ├────┤ X ├────────┤ X ├────┤ X ├──────────────░──╫──╫──╫─»\n",
       "     └───────────┘└───┘    └───┘        └───┘    └───┘              ░  ║  ║  ║ »\n",
       "c: 4/══════════════════════════════════════════════════════════════════╩══╩══╩═»\n",
       "                                                                       0  1  2 »\n",
       "«        \n",
       "«q_0: ───\n",
       "«        \n",
       "«q_1: ───\n",
       "«        \n",
       "«q_2: ───\n",
       "«     ┌─┐\n",
       "«q_3: ┤M├\n",
       "«     └╥┘\n",
       "«q_4: ─╫─\n",
       "«      ║ \n",
       "«c: 4/═╩═\n",
       "«      3 </pre>"
      ],
      "text/plain": [
       "      ┌─────────┐      ┌───────────┐                                ░ ┌─┐      »\n",
       "q_0: ─┤ U2(0,0) ├───■──┤ U2(-π,-π) ├────────────────────────────────░─┤M├──────»\n",
       "      ├─────────┤   │  └───────────┘┌───────────┐                   ░ └╥┘┌─┐   »\n",
       "q_1: ─┤ U2(0,0) ├───┼────────■──────┤ U2(-π,-π) ├───────────────────░──╫─┤M├───»\n",
       "      └──┬───┬──┘   │        │      └───────────┘┌───┐              ░  ║ └╥┘┌─┐»\n",
       "q_2: ────┤ H ├──────┼────────┼────────────■──────┤ H ├──────────────░──╫──╫─┤M├»\n",
       "      ┌──┴───┴──┐   │        │            │      └───┘┌───────────┐ ░  ║  ║ └╥┘»\n",
       "q_3: ─┤ U2(0,0) ├───┼────────┼────────────┼────────■──┤ U2(-π,-π) ├─░──╫──╫──╫─»\n",
       "     ┌┴─────────┴┐┌─┴─┐    ┌─┴─┐        ┌─┴─┐    ┌─┴─┐└───────────┘ ░  ║  ║  ║ »\n",
       "q_4: ┤ U2(-π,-π) ├┤ X ├────┤ X ├────────┤ X ├────┤ X ├──────────────░──╫──╫──╫─»\n",
       "     └───────────┘└───┘    └───┘        └───┘    └───┘              ░  ║  ║  ║ »\n",
       "c: 4/══════════════════════════════════════════════════════════════════╩══╩══╩═»\n",
       "                                                                       0  1  2 »\n",
       "«        \n",
       "«q_0: ───\n",
       "«        \n",
       "«q_1: ───\n",
       "«        \n",
       "«q_2: ───\n",
       "«     ┌─┐\n",
       "«q_3: ┤M├\n",
       "«     └╥┘\n",
       "«q_4: ─╫─\n",
       "«      ║ \n",
       "«c: 4/═╩═\n",
       "«      3 "
      ]
     },
     "execution_count": 8,
     "metadata": {},
     "output_type": "execute_result"
    }
   ],
   "source": [
    "transpiled_circuit = transpile(qc, backend, optimization_level= 2)\n",
    "transpiled_circuit.draw()\n"
   ]
  },
  {
   "cell_type": "code",
   "execution_count": null,
   "metadata": {},
   "outputs": [
    {
     "name": "stderr",
     "output_type": "stream",
     "text": [
      "/Library/Frameworks/Python.framework/Versions/3.11/lib/python3.11/site-packages/numpy/linalg/linalg.py:2154: RuntimeWarning: divide by zero encountered in det\n",
      "  r = _umath_linalg.det(a, signature=signature)\n",
      "/Library/Frameworks/Python.framework/Versions/3.11/lib/python3.11/site-packages/numpy/linalg/linalg.py:2154: RuntimeWarning: invalid value encountered in det\n",
      "  r = _umath_linalg.det(a, signature=signature)\n"
     ]
    },
    {
     "data": {
      "text/html": [
       "<pre style=\"word-wrap: normal;white-space: pre;background: #fff0;line-height: 1.1;font-family: &quot;Courier New&quot;,Courier,monospace\">      ┌─────────┐      ┌───────────┐                                ░ ┌─┐      »\n",
       "q_0: ─┤ U2(0,0) ├───■──┤ U2(-π,-π) ├────────────────────────────────░─┤M├──────»\n",
       "      ├─────────┤   │  └───────────┘┌───────────┐                   ░ └╥┘┌─┐   »\n",
       "q_1: ─┤ U2(0,0) ├───┼────────■──────┤ U2(-π,-π) ├───────────────────░──╫─┤M├───»\n",
       "      └──┬───┬──┘   │        │      └───────────┘┌───┐              ░  ║ └╥┘┌─┐»\n",
       "q_2: ────┤ H ├──────┼────────┼────────────■──────┤ H ├──────────────░──╫──╫─┤M├»\n",
       "      ┌──┴───┴──┐   │        │            │      └───┘┌───────────┐ ░  ║  ║ └╥┘»\n",
       "q_3: ─┤ U2(0,0) ├───┼────────┼────────────┼────────■──┤ U2(-π,-π) ├─░──╫──╫──╫─»\n",
       "     ┌┴─────────┴┐┌─┴─┐    ┌─┴─┐        ┌─┴─┐    ┌─┴─┐└───────────┘ ░  ║  ║  ║ »\n",
       "q_4: ┤ U2(-π,-π) ├┤ X ├────┤ X ├────────┤ X ├────┤ X ├──────────────░──╫──╫──╫─»\n",
       "     └───────────┘└───┘    └───┘        └───┘    └───┘              ░  ║  ║  ║ »\n",
       "c: 4/══════════════════════════════════════════════════════════════════╩══╩══╩═»\n",
       "                                                                       0  1  2 »\n",
       "«        \n",
       "«q_0: ───\n",
       "«        \n",
       "«q_1: ───\n",
       "«        \n",
       "«q_2: ───\n",
       "«     ┌─┐\n",
       "«q_3: ┤M├\n",
       "«     └╥┘\n",
       "«q_4: ─╫─\n",
       "«      ║ \n",
       "«c: 4/═╩═\n",
       "«      3 </pre>"
      ],
      "text/plain": [
       "      ┌─────────┐      ┌───────────┐                                ░ ┌─┐      »\n",
       "q_0: ─┤ U2(0,0) ├───■──┤ U2(-π,-π) ├────────────────────────────────░─┤M├──────»\n",
       "      ├─────────┤   │  └───────────┘┌───────────┐                   ░ └╥┘┌─┐   »\n",
       "q_1: ─┤ U2(0,0) ├───┼────────■──────┤ U2(-π,-π) ├───────────────────░──╫─┤M├───»\n",
       "      └──┬───┬──┘   │        │      └───────────┘┌───┐              ░  ║ └╥┘┌─┐»\n",
       "q_2: ────┤ H ├──────┼────────┼────────────■──────┤ H ├──────────────░──╫──╫─┤M├»\n",
       "      ┌──┴───┴──┐   │        │            │      └───┘┌───────────┐ ░  ║  ║ └╥┘»\n",
       "q_3: ─┤ U2(0,0) ├───┼────────┼────────────┼────────■──┤ U2(-π,-π) ├─░──╫──╫──╫─»\n",
       "     ┌┴─────────┴┐┌─┴─┐    ┌─┴─┐        ┌─┴─┐    ┌─┴─┐└───────────┘ ░  ║  ║  ║ »\n",
       "q_4: ┤ U2(-π,-π) ├┤ X ├────┤ X ├────────┤ X ├────┤ X ├──────────────░──╫──╫──╫─»\n",
       "     └───────────┘└───┘    └───┘        └───┘    └───┘              ░  ║  ║  ║ »\n",
       "c: 4/══════════════════════════════════════════════════════════════════╩══╩══╩═»\n",
       "                                                                       0  1  2 »\n",
       "«        \n",
       "«q_0: ───\n",
       "«        \n",
       "«q_1: ───\n",
       "«        \n",
       "«q_2: ───\n",
       "«     ┌─┐\n",
       "«q_3: ┤M├\n",
       "«     └╥┘\n",
       "«q_4: ─╫─\n",
       "«      ║ \n",
       "«c: 4/═╩═\n",
       "«      3 "
      ]
     },
     "execution_count": 9,
     "metadata": {},
     "output_type": "execute_result"
    }
   ],
   "source": [
    "transpiled_circuit = transpile(qc, backend, optimization_level= 3)\n",
    "transpiled_circuit.draw()\n"
   ]
  }
 ],
 "metadata": {
  "kernelspec": {
   "display_name": "base",
   "language": "python",
   "name": "python3"
  },
  "language_info": {
   "codemirror_mode": {
    "name": "ipython",
    "version": 3
   },
   "file_extension": ".py",
   "mimetype": "text/x-python",
   "name": "python",
   "nbconvert_exporter": "python",
   "pygments_lexer": "ipython3",
   "version": "3.11.4"
  },
  "orig_nbformat": 4
 },
 "nbformat": 4,
 "nbformat_minor": 2
}
