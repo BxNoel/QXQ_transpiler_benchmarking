{
 "cells": [
  {
   "cell_type": "code",
   "execution_count": 7,
   "metadata": {},
   "outputs": [
    {
     "data": {
      "text/html": [
       "<pre style=\"word-wrap: normal;white-space: pre;background: #fff0;line-height: 1.1;font-family: &quot;Courier New&quot;,Courier,monospace\">     ┌───┐     ┌───┐┌───┐\n",
       "q_0: ┤ H ├──■──┤ X ├┤ X ├\n",
       "     └───┘┌─┴─┐├───┤└─┬─┘\n",
       "q_1: ─────┤ X ├┤ H ├──■──\n",
       "          └───┘└───┘     </pre>"
      ],
      "text/plain": [
       "     ┌───┐     ┌───┐┌───┐\n",
       "q_0: ┤ H ├──■──┤ X ├┤ X ├\n",
       "     └───┘┌─┴─┐├───┤└─┬─┘\n",
       "q_1: ─────┤ X ├┤ H ├──■──\n",
       "          └───┘└───┘     "
      ]
     },
     "execution_count": 7,
     "metadata": {},
     "output_type": "execute_result"
    }
   ],
   "source": [
    "#This following Method will read a bunch of circuits and calculate the circuit depth of each of them lols.\n",
    "from qiskit import *\n",
    "qc = QuantumCircuit(2)\n",
    "qc.h(0)\n",
    "qc.cx(0,1)\n",
    "qc.h(1)\n",
    "qc.x(0)\n",
    "qc.cx(1,0)\n",
    "qc.draw()"
   ]
  },
  {
   "cell_type": "code",
   "execution_count": 4,
   "metadata": {},
   "outputs": [],
   "source": [
    "#This obtains Circuit Depth:\n",
    "def calc_depth(qc):\n",
    "    return qc.depth()"
   ]
  }
 ],
 "metadata": {
  "kernelspec": {
   "display_name": "Python 3",
   "language": "python",
   "name": "python3"
  },
  "language_info": {
   "codemirror_mode": {
    "name": "ipython",
    "version": 3
   },
   "file_extension": ".py",
   "mimetype": "text/x-python",
   "name": "python",
   "nbconvert_exporter": "python",
   "pygments_lexer": "ipython3",
   "version": "3.11.4"
  },
  "orig_nbformat": 4
 },
 "nbformat": 4,
 "nbformat_minor": 2
}
